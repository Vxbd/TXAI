{
 "cells": [
  {
   "cell_type": "code",
   "execution_count": 1,
   "metadata": {},
   "outputs": [],
   "source": [
    "import pandas as pd\n",
    "import os"
   ]
  },
  {
   "attachments": {},
   "cell_type": "markdown",
   "metadata": {},
   "source": [
    "Abrimos y leemos el archivo."
   ]
  },
  {
   "cell_type": "code",
   "execution_count": 3,
   "metadata": {},
   "outputs": [
    {
     "data": {
      "text/html": [
       "<div>\n",
       "<style scoped>\n",
       "    .dataframe tbody tr th:only-of-type {\n",
       "        vertical-align: middle;\n",
       "    }\n",
       "\n",
       "    .dataframe tbody tr th {\n",
       "        vertical-align: top;\n",
       "    }\n",
       "\n",
       "    .dataframe thead th {\n",
       "        text-align: right;\n",
       "    }\n",
       "</style>\n",
       "<table border=\"1\" class=\"dataframe\">\n",
       "  <thead>\n",
       "    <tr style=\"text-align: right;\">\n",
       "      <th></th>\n",
       "      <th>veracity</th>\n",
       "      <th>claims</th>\n",
       "    </tr>\n",
       "  </thead>\n",
       "  <tbody>\n",
       "    <tr>\n",
       "      <th>0</th>\n",
       "      <td>FALSE</td>\n",
       "      <td>The man who killed the Uvalde, Texas, school s...</td>\n",
       "    </tr>\n",
       "    <tr>\n",
       "      <th>1</th>\n",
       "      <td>BLATANT-LIE</td>\n",
       "      <td>The government gives you your credit score.</td>\n",
       "    </tr>\n",
       "    <tr>\n",
       "      <th>2</th>\n",
       "      <td>BLATANT-LIE</td>\n",
       "      <td>Bill Gates planned a smallpox-type outbreak.</td>\n",
       "    </tr>\n",
       "    <tr>\n",
       "      <th>3</th>\n",
       "      <td>BLATANT-LIE</td>\n",
       "      <td>allegedly shows pallets of boxes containing ba...</td>\n",
       "    </tr>\n",
       "    <tr>\n",
       "      <th>4</th>\n",
       "      <td>BLATANT-LIE</td>\n",
       "      <td>Active shooter drill at high school in Uvalde,...</td>\n",
       "    </tr>\n",
       "  </tbody>\n",
       "</table>\n",
       "</div>"
      ],
      "text/plain": [
       "      veracity                                             claims\n",
       "0        FALSE  The man who killed the Uvalde, Texas, school s...\n",
       "1  BLATANT-LIE        The government gives you your credit score.\n",
       "2  BLATANT-LIE       Bill Gates planned a smallpox-type outbreak.\n",
       "3  BLATANT-LIE  allegedly shows pallets of boxes containing ba...\n",
       "4  BLATANT-LIE  Active shooter drill at high school in Uvalde,..."
      ]
     },
     "execution_count": 3,
     "metadata": {},
     "output_type": "execute_result"
    }
   ],
   "source": [
    "df = pd.read_csv('fact_check_Med1060.csv', sep=\",\")\n",
    "df.head()"
   ]
  },
  {
   "attachments": {},
   "cell_type": "markdown",
   "metadata": {},
   "source": [
    "Vemos la frecuencia de cada clase,"
   ]
  },
  {
   "cell_type": "code",
   "execution_count": 4,
   "metadata": {},
   "outputs": [
    {
     "data": {
      "text/plain": [
       "FALSE           365\n",
       "BLATANT-LIE     351\n",
       "MOSTLY-FALSE     74\n",
       "TRUE             50\n",
       "MOSTLY-TRUE      41\n",
       "NO-EVIDENCE       6\n",
       "Name: veracity, dtype: int64"
      ]
     },
     "execution_count": 4,
     "metadata": {},
     "output_type": "execute_result"
    }
   ],
   "source": [
    "df.veracity.value_counts()"
   ]
  },
  {
   "attachments": {},
   "cell_type": "markdown",
   "metadata": {},
   "source": [
    "Eliminamos la cateogria sin evidencais"
   ]
  },
  {
   "cell_type": "code",
   "execution_count": 5,
   "metadata": {},
   "outputs": [],
   "source": [
    "indices = df[df[\"veracity\"] == \"NO-EVIDENCE\"].index\n",
    "df.drop(indices, inplace=True)"
   ]
  },
  {
   "cell_type": "code",
   "execution_count": 6,
   "metadata": {},
   "outputs": [],
   "source": [
    "#Cambiamos a calsificación binaria\n",
    "df[\"veracity\"][df[\"veracity\"]==\"TRUE\"] = 1\n",
    "df[\"veracity\"][df[\"veracity\"]==\"MOSTLY-TRUE\"] = 1\n",
    "df[\"veracity\"][df[\"veracity\"]==\"MOSTLY-FALSE\"] = 0\n",
    "df[\"veracity\"][df[\"veracity\"]==\"FALSE\"] = 0\n",
    "df[\"veracity\"][df[\"veracity\"]==\"BLATANT-LIE\"] = 0"
   ]
  },
  {
   "cell_type": "code",
   "execution_count": 9,
   "metadata": {},
   "outputs": [
    {
     "name": "stdout",
     "output_type": "stream",
     "text": [
      "0    89.670829\n",
      "1    10.329171\n",
      "Name: veracity, dtype: float64\n"
     ]
    }
   ],
   "source": [
    "# Calcular el porcentaje de cada clase\n",
    "porcentajes = df['veracity'].value_counts(normalize=True) * 100\n",
    "\n",
    "# Mostrar los resultados\n",
    "print(porcentajes)"
   ]
  },
  {
   "cell_type": "code",
   "execution_count": 8,
   "metadata": {},
   "outputs": [
    {
     "data": {
      "text/html": [
       "<div>\n",
       "<style scoped>\n",
       "    .dataframe tbody tr th:only-of-type {\n",
       "        vertical-align: middle;\n",
       "    }\n",
       "\n",
       "    .dataframe tbody tr th {\n",
       "        vertical-align: top;\n",
       "    }\n",
       "\n",
       "    .dataframe thead th {\n",
       "        text-align: right;\n",
       "    }\n",
       "</style>\n",
       "<table border=\"1\" class=\"dataframe\">\n",
       "  <thead>\n",
       "    <tr style=\"text-align: right;\">\n",
       "      <th></th>\n",
       "      <th>veracity</th>\n",
       "      <th>claims</th>\n",
       "    </tr>\n",
       "  </thead>\n",
       "  <tbody>\n",
       "    <tr>\n",
       "      <th>0</th>\n",
       "      <td>0</td>\n",
       "      <td>The man who killed the Uvalde, Texas, school s...</td>\n",
       "    </tr>\n",
       "    <tr>\n",
       "      <th>1</th>\n",
       "      <td>0</td>\n",
       "      <td>The government gives you your credit score.</td>\n",
       "    </tr>\n",
       "    <tr>\n",
       "      <th>2</th>\n",
       "      <td>0</td>\n",
       "      <td>Bill Gates planned a smallpox-type outbreak.</td>\n",
       "    </tr>\n",
       "    <tr>\n",
       "      <th>3</th>\n",
       "      <td>0</td>\n",
       "      <td>allegedly shows pallets of boxes containing ba...</td>\n",
       "    </tr>\n",
       "    <tr>\n",
       "      <th>4</th>\n",
       "      <td>0</td>\n",
       "      <td>Active shooter drill at high school in Uvalde,...</td>\n",
       "    </tr>\n",
       "    <tr>\n",
       "      <th>...</th>\n",
       "      <td>...</td>\n",
       "      <td>...</td>\n",
       "    </tr>\n",
       "    <tr>\n",
       "      <th>876</th>\n",
       "      <td>0</td>\n",
       "      <td>Recently released Jan. 6 footage shows “these ...</td>\n",
       "    </tr>\n",
       "    <tr>\n",
       "      <th>877</th>\n",
       "      <td>0</td>\n",
       "      <td>COVID-19 tests that are labeled “positive cont...</td>\n",
       "    </tr>\n",
       "    <tr>\n",
       "      <th>878</th>\n",
       "      <td>0</td>\n",
       "      <td>President Joe Biden “has the lowest approval r...</td>\n",
       "    </tr>\n",
       "    <tr>\n",
       "      <th>879</th>\n",
       "      <td>0</td>\n",
       "      <td>Face masks increase the risks of respiratory d...</td>\n",
       "    </tr>\n",
       "    <tr>\n",
       "      <th>880</th>\n",
       "      <td>1</td>\n",
       "      <td>Gov. Kim Reynolds, touting $210 million for Io...</td>\n",
       "    </tr>\n",
       "  </tbody>\n",
       "</table>\n",
       "<p>881 rows × 2 columns</p>\n",
       "</div>"
      ],
      "text/plain": [
       "     veracity                                             claims\n",
       "0           0  The man who killed the Uvalde, Texas, school s...\n",
       "1           0        The government gives you your credit score.\n",
       "2           0       Bill Gates planned a smallpox-type outbreak.\n",
       "3           0  allegedly shows pallets of boxes containing ba...\n",
       "4           0  Active shooter drill at high school in Uvalde,...\n",
       "..        ...                                                ...\n",
       "876         0  Recently released Jan. 6 footage shows “these ...\n",
       "877         0  COVID-19 tests that are labeled “positive cont...\n",
       "878         0  President Joe Biden “has the lowest approval r...\n",
       "879         0  Face masks increase the risks of respiratory d...\n",
       "880         1  Gov. Kim Reynolds, touting $210 million for Io...\n",
       "\n",
       "[881 rows x 2 columns]"
      ]
     },
     "execution_count": 8,
     "metadata": {},
     "output_type": "execute_result"
    }
   ],
   "source": [
    "df.to_csv('fact_check_bool.csv', header=True, index=False)\n",
    "df = pd.read_csv('fact_check_bool.csv', sep=',')\n",
    "df"
   ]
  }
 ],
 "metadata": {
  "kernelspec": {
   "display_name": "mia2cuadri",
   "language": "python",
   "name": "python3"
  },
  "language_info": {
   "codemirror_mode": {
    "name": "ipython",
    "version": 3
   },
   "file_extension": ".py",
   "mimetype": "text/x-python",
   "name": "python",
   "nbconvert_exporter": "python",
   "pygments_lexer": "ipython3",
   "version": "3.8.16"
  },
  "orig_nbformat": 4
 },
 "nbformat": 4,
 "nbformat_minor": 2
}
